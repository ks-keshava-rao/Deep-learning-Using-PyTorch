{
  "nbformat": 4,
  "nbformat_minor": 0,
  "metadata": {
    "kernelspec": {
      "display_name": "Python 3",
      "language": "python",
      "name": "python3"
    },
    "language_info": {
      "codemirror_mode": {
        "name": "ipython",
        "version": 3
      },
      "file_extension": ".py",
      "mimetype": "text/x-python",
      "name": "python",
      "nbconvert_exporter": "python",
      "pygments_lexer": "ipython3",
      "version": "3.7.6"
    },
    "colab": {
      "name": "linear regression.ipynb",
      "provenance": [],
      "include_colab_link": true
    }
  },
  "cells": [
    {
      "cell_type": "markdown",
      "metadata": {
        "id": "view-in-github",
        "colab_type": "text"
      },
      "source": [
        "<a href=\"https://colab.research.google.com/github/kskrao219/jovian.ai/blob/main/linear_regression.ipynb\" target=\"_parent\"><img src=\"https://colab.research.google.com/assets/colab-badge.svg\" alt=\"Open In Colab\"/></a>"
      ]
    },
    {
      "cell_type": "code",
      "metadata": {
        "id": "_luCSRH3uoE8"
      },
      "source": [
        "# Jovian Commit Essentials\n",
        "# Please retain and execute this cell without modifying the contents for `jovian.commit` to work\n",
        "!pip install jovian --upgrade -q\n",
        "import jovian\n",
        "jovian.utils.colab.set_colab_file_id('1bK11013cI0guvKjIW5uzkhJkmDic-nUX')"
      ],
      "execution_count": 121,
      "outputs": []
    },
    {
      "cell_type": "code",
      "metadata": {
        "id": "2w12WkRKuoFH"
      },
      "source": [
        "!pip install jovian --upgrade --quiet"
      ],
      "execution_count": 122,
      "outputs": []
    },
    {
      "cell_type": "code",
      "metadata": {
        "id": "6MjJB_Ns3zwL"
      },
      "source": [
        " import numpy as np\r\n",
        " import torch as tr\r\n",
        " import pandas as pd"
      ],
      "execution_count": 123,
      "outputs": []
    },
    {
      "cell_type": "code",
      "metadata": {
        "id": "VJv3zDxW3zgj"
      },
      "source": [
        "#input(temp,rainfall,humidity)\r\n",
        "inputs = np.array([[73,67,43],\r\n",
        "                   [91,88,64],\r\n",
        "                   [87,134,58],\r\n",
        "                   [102,43,37],\r\n",
        "                   [69,96,70]],dtype='float32')"
      ],
      "execution_count": 124,
      "outputs": []
    },
    {
      "cell_type": "code",
      "metadata": {
        "id": "EL4eem8s3yqw"
      },
      "source": [
        "#targets/outputs (apples , oranges)\r\n",
        "targets = np.array([[56, 70], \r\n",
        "                    [81, 101], \r\n",
        "                    [119, 133], \r\n",
        "                    [22, 37], \r\n",
        "                    [103, 119]], dtype='float32')"
      ],
      "execution_count": 125,
      "outputs": []
    },
    {
      "cell_type": "code",
      "metadata": {
        "id": "J_1ueLTwuoFI",
        "colab": {
          "base_uri": "https://localhost:8080/"
        },
        "outputId": "c607900a-6344-4357-bac3-79a1c32ca8b5"
      },
      "source": [
        "#convert numpy arrays to torch tensors\r\n",
        "inputs=tr.from_numpy(inputs)\r\n",
        "targets=tr.from_numpy(targets)\r\n",
        "print(inputs)\r\n",
        "print(targets)"
      ],
      "execution_count": 126,
      "outputs": [
        {
          "output_type": "stream",
          "text": [
            "tensor([[ 73.,  67.,  43.],\n",
            "        [ 91.,  88.,  64.],\n",
            "        [ 87., 134.,  58.],\n",
            "        [102.,  43.,  37.],\n",
            "        [ 69.,  96.,  70.]])\n",
            "tensor([[ 56.,  70.],\n",
            "        [ 81., 101.],\n",
            "        [119., 133.],\n",
            "        [ 22.,  37.],\n",
            "        [103., 119.]])\n"
          ],
          "name": "stdout"
        }
      ]
    },
    {
      "cell_type": "code",
      "metadata": {
        "id": "7dRjl9nmA8rz",
        "colab": {
          "base_uri": "https://localhost:8080/"
        },
        "outputId": "6a3be278-f240-4403-cf4b-8d7420e3c485"
      },
      "source": [
        "#weights and biases\r\n",
        "w=tr.randn(2,3,requires_grad=True)#creates random matrix\r\n",
        "b=tr.randn(2,requires_grad=True)\r\n",
        "print(w)\r\n",
        "print(b)"
      ],
      "execution_count": 127,
      "outputs": [
        {
          "output_type": "stream",
          "text": [
            "tensor([[ 0.1314, -0.8679,  0.1804],\n",
            "        [ 0.6853, -1.0474,  0.7034]], requires_grad=True)\n",
            "tensor([0.8134, 1.5068], requires_grad=True)\n"
          ],
          "name": "stdout"
        }
      ]
    },
    {
      "cell_type": "code",
      "metadata": {
        "colab": {
          "base_uri": "https://localhost:8080/"
        },
        "id": "M5cVOshWc4ii",
        "outputId": "56d3f1b0-0f8d-444f-e9db-bc5288f6046a"
      },
      "source": [
        "w"
      ],
      "execution_count": 128,
      "outputs": [
        {
          "output_type": "execute_result",
          "data": {
            "text/plain": [
              "tensor([[ 0.1314, -0.8679,  0.1804],\n",
              "        [ 0.6853, -1.0474,  0.7034]], requires_grad=True)"
            ]
          },
          "metadata": {
            "tags": []
          },
          "execution_count": 128
        }
      ]
    },
    {
      "cell_type": "code",
      "metadata": {
        "id": "wMRO5UYYbAa8"
      },
      "source": [
        "def model(x): \r\n",
        "  return x @ w.t() + b # @ is used for matrix multiplication in pytorch and python , w.t() is used for transposing"
      ],
      "execution_count": 129,
      "outputs": []
    },
    {
      "cell_type": "code",
      "metadata": {
        "colab": {
          "base_uri": "https://localhost:8080/"
        },
        "id": "1SCK0qtcc_l9",
        "outputId": "fc8673f7-336d-4cb9-b870-03c8c676dc86"
      },
      "source": [
        "w.t()"
      ],
      "execution_count": 130,
      "outputs": [
        {
          "output_type": "execute_result",
          "data": {
            "text/plain": [
              "tensor([[ 0.1314,  0.6853],\n",
              "        [-0.8679, -1.0474],\n",
              "        [ 0.1804,  0.7034]], grad_fn=<TBackward>)"
            ]
          },
          "metadata": {
            "tags": []
          },
          "execution_count": 130
        }
      ]
    },
    {
      "cell_type": "code",
      "metadata": {
        "colab": {
          "base_uri": "https://localhost:8080/"
        },
        "id": "YAPgMkNcdnyk",
        "outputId": "0d8797e0-4237-4673-df01-eaeb3330b2fc"
      },
      "source": [
        "preds = model(inputs)\r\n",
        "print(preds)"
      ],
      "execution_count": 131,
      "outputs": [
        {
          "output_type": "stream",
          "text": [
            "tensor([[-39.9881,  11.6062],\n",
            "        [-52.0614,  16.7181],\n",
            "        [-93.5936, -38.4244],\n",
            "        [-16.4286,  52.3981],\n",
            "        [-60.8140,  -2.5180]], grad_fn=<AddBackward0>)\n"
          ],
          "name": "stdout"
        }
      ]
    },
    {
      "cell_type": "code",
      "metadata": {
        "colab": {
          "base_uri": "https://localhost:8080/"
        },
        "id": "ooFpyKP7dAQo",
        "outputId": "b8fab194-9c2d-4d35-e699-a7b5f423bfec"
      },
      "source": [
        "#compare with targets\r\n",
        "print(targets)"
      ],
      "execution_count": 132,
      "outputs": [
        {
          "output_type": "stream",
          "text": [
            "tensor([[ 56.,  70.],\n",
            "        [ 81., 101.],\n",
            "        [119., 133.],\n",
            "        [ 22.,  37.],\n",
            "        [103., 119.]])\n"
          ],
          "name": "stdout"
        }
      ]
    },
    {
      "cell_type": "code",
      "metadata": {
        "id": "eNiMMyC1fORk"
      },
      "source": [
        "#loss functions\r\n"
      ],
      "execution_count": 133,
      "outputs": []
    },
    {
      "cell_type": "code",
      "metadata": {
        "id": "iBdSrqKRfgnp"
      },
      "source": [
        "#MSE loss function\r\n",
        "def mse(t1,t2):\r\n",
        "  diff = t1-t2\r\n",
        "  return tr.sum(diff*diff)/diff.numel() #numel is used for getiing no of elements"
      ],
      "execution_count": 134,
      "outputs": []
    },
    {
      "cell_type": "code",
      "metadata": {
        "colab": {
          "base_uri": "https://localhost:8080/"
        },
        "id": "Bwf4dBP0gKjU",
        "outputId": "e1be670d-c5f3-4ee7-a35e-d82cd1d06085"
      },
      "source": [
        "#compute loss\r\n",
        "loss = mse(preds,targets)\r\n",
        "print(loss) "
      ],
      "execution_count": 135,
      "outputs": [
        {
          "output_type": "stream",
          "text": [
            "tensor(15533.0156, grad_fn=<DivBackward0>)\n"
          ],
          "name": "stdout"
        }
      ]
    },
    {
      "cell_type": "code",
      "metadata": {
        "id": "YxgKHB6MgwEC"
      },
      "source": [
        "loss.backward()"
      ],
      "execution_count": 136,
      "outputs": []
    },
    {
      "cell_type": "code",
      "metadata": {
        "colab": {
          "base_uri": "https://localhost:8080/"
        },
        "id": "1KB9idvuhGB2",
        "outputId": "68218f0e-5c7c-4474-a5e8-f8267961587a"
      },
      "source": [
        "print(w)\r\n",
        "print(w.grad)"
      ],
      "execution_count": 137,
      "outputs": [
        {
          "output_type": "stream",
          "text": [
            "tensor([[ 0.1314, -0.8679,  0.1804],\n",
            "        [ 0.6853, -1.0474,  0.7034]], requires_grad=True)\n",
            "tensor([[-10566.8486, -12801.3447,  -7572.5371],\n",
            "        [ -6732.0908,  -9060.7324,  -5156.8232]])\n"
          ],
          "name": "stdout"
        }
      ]
    },
    {
      "cell_type": "code",
      "metadata": {
        "id": "gwiK6ujDhUBt"
      },
      "source": [
        "#optimise gradients"
      ],
      "execution_count": 138,
      "outputs": []
    },
    {
      "cell_type": "code",
      "metadata": {
        "id": "Ilq1RiXQid7F"
      },
      "source": [
        "#new calculations clear previous grads"
      ],
      "execution_count": 139,
      "outputs": []
    },
    {
      "cell_type": "code",
      "metadata": {
        "colab": {
          "base_uri": "https://localhost:8080/"
        },
        "id": "MqbdNB8mimO1",
        "outputId": "6779298f-4425-408f-8df3-fa67c33d7984"
      },
      "source": [
        "w.grad.zero_()\r\n",
        "b.grad.zero_()\r\n",
        "print(w.grad)\r\n",
        "print(b.grad)"
      ],
      "execution_count": 140,
      "outputs": [
        {
          "output_type": "stream",
          "text": [
            "tensor([[0., 0., 0.],\n",
            "        [0., 0., 0.]])\n",
            "tensor([0., 0.])\n"
          ],
          "name": "stdout"
        }
      ]
    },
    {
      "cell_type": "code",
      "metadata": {
        "id": "kMQj7Lb7iu_C"
      },
      "source": [
        "#ADJUST WEIGHTS AND BIASES USING GRADIENT DESCENT\r\n",
        "#1 GENERATE PREDICTIONS\r\n",
        "#2 CALCULATE LOSSES \r\n",
        "#3 COMPUTE GRADIENTS WRT THE WEIGHTS AND BIASES \r\n",
        "#4 ADJUST THE WEIGHTS BY SUBTRACTING A SMALL QUANTITY PROPORTIONAL TO THE GRADIENT\r\n",
        "#5 RESET THE GRADIENTS TO ZERO"
      ],
      "execution_count": 141,
      "outputs": []
    },
    {
      "cell_type": "code",
      "metadata": {
        "colab": {
          "base_uri": "https://localhost:8080/"
        },
        "id": "nOFNPaXHjvhS",
        "outputId": "3dee6e52-ff79-46c8-b563-589b2cbfe065"
      },
      "source": [
        "#generate predictions\r\n",
        "preds=model(inputs)\r\n",
        "print(preds)"
      ],
      "execution_count": 142,
      "outputs": [
        {
          "output_type": "stream",
          "text": [
            "tensor([[-39.9881,  11.6062],\n",
            "        [-52.0614,  16.7181],\n",
            "        [-93.5936, -38.4244],\n",
            "        [-16.4286,  52.3981],\n",
            "        [-60.8140,  -2.5180]], grad_fn=<AddBackward0>)\n"
          ],
          "name": "stdout"
        }
      ]
    },
    {
      "cell_type": "code",
      "metadata": {
        "colab": {
          "base_uri": "https://localhost:8080/"
        },
        "id": "dfXcktTPj9-E",
        "outputId": "de9863ae-de6a-451c-a7a8-78bf4a8499ad"
      },
      "source": [
        "#calculate the loss\r\n",
        "loss=mse(preds,targets)\r\n",
        "print(loss)"
      ],
      "execution_count": 143,
      "outputs": [
        {
          "output_type": "stream",
          "text": [
            "tensor(15533.0156, grad_fn=<DivBackward0>)\n"
          ],
          "name": "stdout"
        }
      ]
    },
    {
      "cell_type": "code",
      "metadata": {
        "colab": {
          "base_uri": "https://localhost:8080/"
        },
        "id": "pokqd_lxkH7U",
        "outputId": "c182fc47-e1bb-4f2a-a18f-b64533009c0f"
      },
      "source": [
        "#compute gradients\r\n",
        "loss.backward()\r\n",
        "print(w.grad)\r\n",
        "print(b.grad)"
      ],
      "execution_count": 144,
      "outputs": [
        {
          "output_type": "stream",
          "text": [
            "tensor([[-10566.8486, -12801.3447,  -7572.5371],\n",
            "        [ -6732.0908,  -9060.7324,  -5156.8232]])\n",
            "tensor([-128.7771,  -84.0440])\n"
          ],
          "name": "stdout"
        }
      ]
    },
    {
      "cell_type": "code",
      "metadata": {
        "id": "N5pdMvjWkVTY"
      },
      "source": [
        "#adjust weights and reset gradients\r\n",
        "with tr.no_grad():\r\n",
        "  w-=w.grad * (10**-5)\r\n",
        "  b-=b.grad * (10**-5)\r\n",
        "  w.grad.zero_()\r\n",
        "  b.grad.zero_()\r\n",
        " "
      ],
      "execution_count": 145,
      "outputs": []
    },
    {
      "cell_type": "code",
      "metadata": {
        "colab": {
          "base_uri": "https://localhost:8080/"
        },
        "id": "vjdHO6JF8bVY",
        "outputId": "6a49dde2-1c28-41f5-f2f8-3edc93bcbf3b"
      },
      "source": [
        "print(w)\r\n",
        "print(b)"
      ],
      "execution_count": 146,
      "outputs": [
        {
          "output_type": "stream",
          "text": [
            "tensor([[ 0.2371, -0.7399,  0.2561],\n",
            "        [ 0.7527, -0.9568,  0.7550]], requires_grad=True)\n",
            "tensor([0.8147, 1.5076], requires_grad=True)\n"
          ],
          "name": "stdout"
        }
      ]
    },
    {
      "cell_type": "code",
      "metadata": {
        "colab": {
          "base_uri": "https://localhost:8080/"
        },
        "id": "-7Kj01qP_Qn1",
        "outputId": "7d4ef838-2973-46dd-bd7b-140acee60103"
      },
      "source": [
        "#calculate losss\r\n",
        "preds = model(inputs)\r\n",
        "loss=mse(preds,targets)\r\n",
        "print(loss)"
      ],
      "execution_count": 147,
      "outputs": [
        {
          "output_type": "stream",
          "text": [
            "tensor(11097.7344, grad_fn=<DivBackward0>)\n"
          ],
          "name": "stdout"
        }
      ]
    },
    {
      "cell_type": "code",
      "metadata": {
        "id": "htgrqZwA_yAZ"
      },
      "source": [
        "#train for 100 epochs\r\n",
        "for i in range(100):\r\n",
        "  preds  = model(inputs)\r\n",
        "  loss = mse(preds,targets)\r\n",
        "  loss.backward()\r\n",
        "  with tr.no_grad():\r\n",
        "    w-=w.grad * (10**-5)\r\n",
        "    b-=b.grad * (10**-5)\r\n",
        "    w.grad.zero_()\r\n",
        "    b.grad.zero_()\r\n",
        "\r\n",
        " "
      ],
      "execution_count": 148,
      "outputs": []
    },
    {
      "cell_type": "code",
      "metadata": {
        "colab": {
          "base_uri": "https://localhost:8080/"
        },
        "id": "u5SJSyaMApFU",
        "outputId": "2c626323-2e6f-438d-d805-eeb95c8bb2d7"
      },
      "source": [
        "preds=model(inputs)\r\n",
        "loss=mse(preds,targets)\r\n",
        "print(loss)\r\n"
      ],
      "execution_count": 149,
      "outputs": [
        {
          "output_type": "stream",
          "text": [
            "tensor(559.2199, grad_fn=<DivBackward0>)\n"
          ],
          "name": "stdout"
        }
      ]
    },
    {
      "cell_type": "code",
      "metadata": {
        "colab": {
          "base_uri": "https://localhost:8080/"
        },
        "id": "-OZB7D08BCfM",
        "outputId": "ea3763d8-1174-4cb1-9d1b-1334bf76fa28"
      },
      "source": [
        "\r\n",
        "targets"
      ],
      "execution_count": 150,
      "outputs": [
        {
          "output_type": "execute_result",
          "data": {
            "text/plain": [
              "tensor([[ 56.,  70.],\n",
              "        [ 81., 101.],\n",
              "        [119., 133.],\n",
              "        [ 22.,  37.],\n",
              "        [103., 119.]])"
            ]
          },
          "metadata": {
            "tags": []
          },
          "execution_count": 150
        }
      ]
    },
    {
      "cell_type": "code",
      "metadata": {
        "colab": {
          "base_uri": "https://localhost:8080/"
        },
        "id": "Wp4iSTs7BHoJ",
        "outputId": "e9df4ff4-f601-4046-ec3c-d1b7cc20b943"
      },
      "source": [
        "preds #predictions"
      ],
      "execution_count": 151,
      "outputs": [
        {
          "output_type": "execute_result",
          "data": {
            "text/plain": [
              "tensor([[ 63.7608,  78.5408],\n",
              "        [ 87.3968, 108.4642],\n",
              "        [ 96.2886, 102.0034],\n",
              "        [ 58.6962,  83.6190],\n",
              "        [ 89.1597, 105.7978]], grad_fn=<AddBackward0>)"
            ]
          },
          "metadata": {
            "tags": []
          },
          "execution_count": 151
        }
      ]
    },
    {
      "cell_type": "code",
      "metadata": {
        "id": "YYeYRKkCBLWQ"
      },
      "source": [
        "#train for 100 epochs\r\n",
        "for i in range(100):\r\n",
        "  preds  = model(inputs)\r\n",
        "  loss = mse(preds,targets)\r\n",
        "  loss.backward()\r\n",
        "  with tr.no_grad():\r\n",
        "    w-=w.grad * (10**-5)\r\n",
        "    b-=b.grad * (10**-5)\r\n",
        "    w.grad.zero_()\r\n",
        "    b.grad.zero_()"
      ],
      "execution_count": 152,
      "outputs": []
    },
    {
      "cell_type": "code",
      "metadata": {
        "colab": {
          "base_uri": "https://localhost:8080/"
        },
        "id": "fGe-TgZyBdWC",
        "outputId": "0a793083-2184-48ad-fcaa-c8c6f264fb2c"
      },
      "source": [
        "preds=model(inputs)\r\n",
        "loss=mse(preds,targets)\r\n",
        "print(loss)"
      ],
      "execution_count": 153,
      "outputs": [
        {
          "output_type": "stream",
          "text": [
            "tensor(158.8285, grad_fn=<DivBackward0>)\n"
          ],
          "name": "stdout"
        }
      ]
    },
    {
      "cell_type": "code",
      "metadata": {
        "colab": {
          "base_uri": "https://localhost:8080/"
        },
        "id": "M5-rQm1QBgQg",
        "outputId": "864498db-d7f7-4a7b-e572-4eed5de24541"
      },
      "source": [
        "preds"
      ],
      "execution_count": 154,
      "outputs": [
        {
          "output_type": "execute_result",
          "data": {
            "text/plain": [
              "tensor([[ 60.7113,  74.7137],\n",
              "        [ 85.0142, 105.3466],\n",
              "        [106.6100, 115.2463],\n",
              "        [ 40.9417,  61.3248],\n",
              "        [ 95.3752, 113.3838]], grad_fn=<AddBackward0>)"
            ]
          },
          "metadata": {
            "tags": []
          },
          "execution_count": 154
        }
      ]
    },
    {
      "cell_type": "code",
      "metadata": {
        "id": "sJZVFLWuCBta"
      },
      "source": [
        "!pip install jovian --upgrade -q"
      ],
      "execution_count": 155,
      "outputs": []
    },
    {
      "cell_type": "code",
      "metadata": {
        "id": "_dyYrrwzB_-e"
      },
      "source": [
        "import jovian"
      ],
      "execution_count": 156,
      "outputs": []
    },
    {
      "cell_type": "code",
      "metadata": {
        "colab": {
          "base_uri": "https://localhost:8080/",
          "height": 137
        },
        "id": "aXE43GQxBlTs",
        "outputId": "d460f496-6a20-471f-8e3b-56839ad8e7d5"
      },
      "source": [
        "jovian.commit(project='02_linear_regression-live')"
      ],
      "execution_count": 157,
      "outputs": [
        {
          "output_type": "stream",
          "text": [
            "[jovian] Detected Colab notebook...\u001b[0m\n",
            "[jovian] Please enter your API key ( from https://jovian.ai/ ):\u001b[0m\n",
            "API KEY: ··········\n",
            "[jovian] Uploading colab notebook to Jovian...\u001b[0m\n",
            "[jovian] Capturing environment..\u001b[0m\n",
            "[jovian] Committed successfully! https://jovian.ai/kskrao2192000/02-linear-regression-live\u001b[0m\n"
          ],
          "name": "stdout"
        },
        {
          "output_type": "execute_result",
          "data": {
            "application/vnd.google.colaboratory.intrinsic+json": {
              "type": "string"
            },
            "text/plain": [
              "'https://jovian.ai/kskrao2192000/02-linear-regression-live'"
            ]
          },
          "metadata": {
            "tags": []
          },
          "execution_count": 157
        }
      ]
    },
    {
      "cell_type": "code",
      "metadata": {
        "id": "p0HIbH1JCaGH"
      },
      "source": [
        ""
      ],
      "execution_count": 157,
      "outputs": []
    }
  ]
}