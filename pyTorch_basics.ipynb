{
  "nbformat": 4,
  "nbformat_minor": 0,
  "metadata": {
    "colab": {
      "name": "pyTorch basics.ipynb",
      "provenance": [],
      "authorship_tag": "ABX9TyM2NOI8EMOCzzJ8NN6mhaqJ",
      "include_colab_link": true
    },
    "kernelspec": {
      "name": "python3",
      "display_name": "Python 3"
    }
  },
  "cells": [
    {
      "cell_type": "markdown",
      "metadata": {
        "id": "view-in-github",
        "colab_type": "text"
      },
      "source": [
        "<a href=\"https://colab.research.google.com/github/kskrao219/jovian.ai/blob/main/pyTorch_basics.ipynb\" target=\"_parent\"><img src=\"https://colab.research.google.com/assets/colab-badge.svg\" alt=\"Open In Colab\"/></a>"
      ]
    },
    {
      "cell_type": "code",
      "metadata": {
        "id": "aJpYMbdLx0T6"
      },
      "source": [
        "!pip install torch numpy --quiet"
      ],
      "execution_count": null,
      "outputs": []
    },
    {
      "cell_type": "code",
      "metadata": {
        "id": "Q9aF62_px-qV"
      },
      "source": [
        "import torch"
      ],
      "execution_count": null,
      "outputs": []
    },
    {
      "cell_type": "code",
      "metadata": {
        "colab": {
          "base_uri": "https://localhost:8080/"
        },
        "id": "dIEpL3ciyDvC",
        "outputId": "d54fa7df-51e3-43ee-92c2-92f5467bdacf"
      },
      "source": [
        "t1=torch.tensor(4.0) #floating point is taken to avoid loss \r\n",
        "print(t1)"
      ],
      "execution_count": null,
      "outputs": [
        {
          "output_type": "stream",
          "text": [
            "tensor(4.)\n"
          ],
          "name": "stdout"
        }
      ]
    },
    {
      "cell_type": "code",
      "metadata": {
        "colab": {
          "base_uri": "https://localhost:8080/"
        },
        "id": "uDN_abcYyMlT",
        "outputId": "8454e5fa-c8e7-45af-a239-bd84f95ad023"
      },
      "source": [
        "t1.dtype"
      ],
      "execution_count": null,
      "outputs": [
        {
          "output_type": "execute_result",
          "data": {
            "text/plain": [
              "torch.float32"
            ]
          },
          "metadata": {
            "tags": []
          },
          "execution_count": 6
        }
      ]
    },
    {
      "cell_type": "code",
      "metadata": {
        "colab": {
          "base_uri": "https://localhost:8080/"
        },
        "id": "fE1QO0x6yjkI",
        "outputId": "f5f53b0c-f38b-4725-ebf8-5941ac09a33a"
      },
      "source": [
        "#vector- 1 dimesional\r\n",
        "t2=torch.tensor([1.,2,3,4,6])\r\n",
        "t2\r\n"
      ],
      "execution_count": null,
      "outputs": [
        {
          "output_type": "execute_result",
          "data": {
            "text/plain": [
              "tensor([1., 2., 3., 4., 6.])"
            ]
          },
          "metadata": {
            "tags": []
          },
          "execution_count": 7
        }
      ]
    },
    {
      "cell_type": "code",
      "metadata": {
        "colab": {
          "base_uri": "https://localhost:8080/"
        },
        "id": "KKwo8y3yzBbn",
        "outputId": "b63fd410-93e7-4321-892e-e8138f4a6fb8"
      },
      "source": [
        "\r\n",
        "#matrix-2 dimensional\r\n",
        "t3=torch.tensor([[1,2,3],\r\n",
        "                [2,4,7],\r\n",
        "                [1,3,5]])\r\n",
        "t3"
      ],
      "execution_count": null,
      "outputs": [
        {
          "output_type": "execute_result",
          "data": {
            "text/plain": [
              "tensor([[1, 2, 3],\n",
              "        [2, 4, 7],\n",
              "        [1, 3, 5]])"
            ]
          },
          "metadata": {
            "tags": []
          },
          "execution_count": 8
        }
      ]
    },
    {
      "cell_type": "code",
      "metadata": {
        "colab": {
          "base_uri": "https://localhost:8080/"
        },
        "id": "0PrdiOBWzx37",
        "outputId": "1e23995a-c2de-45e0-e5a9-643e3e5b8dc4"
      },
      "source": [
        "\r\n",
        "#3-d array\r\n",
        "t4=torch.tensor([[[1,2,3],\r\n",
        "                 [14,4,1]],\r\n",
        "                [[2,3,4],\r\n",
        "                 [4,5,7]]])\r\n",
        "t4\r\n"
      ],
      "execution_count": null,
      "outputs": [
        {
          "output_type": "execute_result",
          "data": {
            "text/plain": [
              "tensor([[[ 1,  2,  3],\n",
              "         [14,  4,  1]],\n",
              "\n",
              "        [[ 2,  3,  4],\n",
              "         [ 4,  5,  7]]])"
            ]
          },
          "metadata": {
            "tags": []
          },
          "execution_count": 9
        }
      ]
    },
    {
      "cell_type": "code",
      "metadata": {
        "id": "UkQ1v6C1anbK"
      },
      "source": [
        "t1=torch.tensor(4.0)"
      ],
      "execution_count": null,
      "outputs": []
    },
    {
      "cell_type": "code",
      "metadata": {
        "id": "aBnydjp1y-Bd",
        "colab": {
          "base_uri": "https://localhost:8080/"
        },
        "outputId": "9a8ffbf4-ba44-4561-f974-0372ebac151e"
      },
      "source": [
        "t1"
      ],
      "execution_count": null,
      "outputs": [
        {
          "output_type": "execute_result",
          "data": {
            "text/plain": [
              "tensor(4.)"
            ]
          },
          "metadata": {
            "tags": []
          },
          "execution_count": 11
        }
      ]
    },
    {
      "cell_type": "code",
      "metadata": {
        "colab": {
          "base_uri": "https://localhost:8080/"
        },
        "id": "-HTuvA0Lb64P",
        "outputId": "3b77c2cd-cd2f-4f52-e201-a28a36f6892f"
      },
      "source": [
        "t1.shape"
      ],
      "execution_count": null,
      "outputs": [
        {
          "output_type": "execute_result",
          "data": {
            "text/plain": [
              "torch.Size([])"
            ]
          },
          "metadata": {
            "tags": []
          },
          "execution_count": 12
        }
      ]
    },
    {
      "cell_type": "code",
      "metadata": {
        "colab": {
          "base_uri": "https://localhost:8080/"
        },
        "id": "4OW-_70PcDGG",
        "outputId": "769a74b1-6c6e-42dc-9efa-d35df8dfd3ef"
      },
      "source": [
        "print(t2)\r\n",
        "t2.shape"
      ],
      "execution_count": null,
      "outputs": [
        {
          "output_type": "stream",
          "text": [
            "tensor([1., 2., 3., 4., 6.])\n"
          ],
          "name": "stdout"
        },
        {
          "output_type": "execute_result",
          "data": {
            "text/plain": [
              "torch.Size([5])"
            ]
          },
          "metadata": {
            "tags": []
          },
          "execution_count": 15
        }
      ]
    },
    {
      "cell_type": "code",
      "metadata": {
        "colab": {
          "base_uri": "https://localhost:8080/"
        },
        "id": "pMOCdXfAcFbr",
        "outputId": "30ac1dd9-44ba-4569-bfd9-4e90f08aee0b"
      },
      "source": [
        "print(t4)\r\n",
        "t4.shape"
      ],
      "execution_count": null,
      "outputs": [
        {
          "output_type": "stream",
          "text": [
            "tensor([[[ 1,  2,  3],\n",
            "         [14,  4,  1]],\n",
            "\n",
            "        [[ 2,  3,  4],\n",
            "         [ 4,  5,  7]]])\n"
          ],
          "name": "stdout"
        },
        {
          "output_type": "execute_result",
          "data": {
            "text/plain": [
              "torch.Size([2, 2, 3])"
            ]
          },
          "metadata": {
            "tags": []
          },
          "execution_count": 16
        }
      ]
    },
    {
      "cell_type": "code",
      "metadata": {
        "id": "sHD7-gMAcUtk"
      },
      "source": [
        "#t5=torch.tensor([[[4,2.,1], #improper shape\r\n",
        " #                [2,6],\r\n",
        " #                [2,5,1]])"
      ],
      "execution_count": null,
      "outputs": []
    },
    {
      "cell_type": "code",
      "metadata": {
        "id": "t90Qw7G3fjPo"
      },
      "source": [
        "#TENSORS OPERATIONS AND GRADIENTS"
      ],
      "execution_count": null,
      "outputs": []
    },
    {
      "cell_type": "code",
      "metadata": {
        "colab": {
          "base_uri": "https://localhost:8080/"
        },
        "id": "XGZRDjtdfjS7",
        "outputId": "5f8bd871-1a9d-472b-8cae-0fb3b0e87096"
      },
      "source": [
        "x=torch.tensor(3.0)\r\n",
        "y=torch.tensor(4.0,requires_grad=True)\r\n",
        "z=torch.tensor(5.,requires_grad=True)\r\n",
        "print(x,y,z)\r\n"
      ],
      "execution_count": null,
      "outputs": [
        {
          "output_type": "stream",
          "text": [
            "tensor(3.) tensor(4., requires_grad=True) tensor(5., requires_grad=True)\n"
          ],
          "name": "stdout"
        }
      ]
    },
    {
      "cell_type": "code",
      "metadata": {
        "id": "b-bGBOv4imO7"
      },
      "source": [
        "#AIRTHMETIC OPERATIONS"
      ],
      "execution_count": null,
      "outputs": []
    },
    {
      "cell_type": "code",
      "metadata": {
        "colab": {
          "base_uri": "https://localhost:8080/"
        },
        "id": "fMp2iykQir9s",
        "outputId": "8094b670-3bc0-4458-d6aa-ed08f8666e6c"
      },
      "source": [
        "a=x * y + z\r\n",
        "a"
      ],
      "execution_count": null,
      "outputs": [
        {
          "output_type": "execute_result",
          "data": {
            "text/plain": [
              "tensor(17., grad_fn=<AddBackward0>)"
            ]
          },
          "metadata": {
            "tags": []
          },
          "execution_count": 25
        }
      ]
    },
    {
      "cell_type": "code",
      "metadata": {
        "id": "trPvh9_Ri8FD"
      },
      "source": [
        "#COMPUTE DERIVATIVES\r\n",
        "a.backward()"
      ],
      "execution_count": null,
      "outputs": []
    },
    {
      "cell_type": "code",
      "metadata": {
        "colab": {
          "base_uri": "https://localhost:8080/"
        },
        "id": "1SwWt_FajUW2",
        "outputId": "bd76d2de-9994-4a7b-d291-f7f49c7184f0"
      },
      "source": [
        "#DISPLAY GRADIENTS\r\n",
        "print('da/dx',x.grad)\r\n",
        "print('da/dy',y.grad)\r\n",
        "print('da/dz',z.grad)"
      ],
      "execution_count": null,
      "outputs": [
        {
          "output_type": "stream",
          "text": [
            "da/dx None\n",
            "da/dy tensor(3.)\n",
            "da/dz tensor(1.)\n"
          ],
          "name": "stdout"
        }
      ]
    },
    {
      "cell_type": "code",
      "metadata": {
        "id": "CV5Dj2sukNje"
      },
      "source": [
        "#INTEROPERABILITY WITH UMPY\r\n"
      ],
      "execution_count": null,
      "outputs": []
    },
    {
      "cell_type": "code",
      "metadata": {
        "colab": {
          "base_uri": "https://localhost:8080/"
        },
        "id": "aIbyYP9Zkg13",
        "outputId": "1ef5c3dc-c550-4c3c-e41d-9937ee60a87a"
      },
      "source": [
        "import numpy as np\r\n",
        "x=np.array([[1,2],\r\n",
        "            [2,4]])\r\n",
        "x\r\n"
      ],
      "execution_count": null,
      "outputs": [
        {
          "output_type": "execute_result",
          "data": {
            "text/plain": [
              "array([[1, 2],\n",
              "       [2, 4]])"
            ]
          },
          "metadata": {
            "tags": []
          },
          "execution_count": 31
        }
      ]
    },
    {
      "cell_type": "code",
      "metadata": {
        "colab": {
          "base_uri": "https://localhost:8080/"
        },
        "id": "FJUaV7Rwk4Cp",
        "outputId": "e0d392b6-ae8d-48f9-93ce-33b362b8fa1b"
      },
      "source": [
        "#CONVERY NUMPY ARRAY INTO A TORCH TENSOR\r\n",
        "q=torch.from_numpy(x)\r\n",
        "q"
      ],
      "execution_count": null,
      "outputs": [
        {
          "output_type": "execute_result",
          "data": {
            "text/plain": [
              "tensor([[1, 2],\n",
              "        [2, 4]])"
            ]
          },
          "metadata": {
            "tags": []
          },
          "execution_count": 32
        }
      ]
    },
    {
      "cell_type": "code",
      "metadata": {
        "colab": {
          "base_uri": "https://localhost:8080/"
        },
        "id": "beAPCdvAmEBL",
        "outputId": "55f241f7-08b1-4429-b292-b224ad7363f2"
      },
      "source": [
        "x.dtype,q.dtype"
      ],
      "execution_count": null,
      "outputs": [
        {
          "output_type": "execute_result",
          "data": {
            "text/plain": [
              "(dtype('int64'), torch.int64)"
            ]
          },
          "metadata": {
            "tags": []
          },
          "execution_count": 33
        }
      ]
    },
    {
      "cell_type": "code",
      "metadata": {
        "colab": {
          "base_uri": "https://localhost:8080/"
        },
        "id": "kpthuU7ImJxJ",
        "outputId": "094a6dd0-dab7-4c01-9a60-a77411306d17"
      },
      "source": [
        "#CONVERY TENSOR  INTO A NUMPY \r\n",
        "v=q.numpy()\r\n",
        "v\r\n"
      ],
      "execution_count": null,
      "outputs": [
        {
          "output_type": "execute_result",
          "data": {
            "text/plain": [
              "array([[1, 2],\n",
              "       [2, 4]])"
            ]
          },
          "metadata": {
            "tags": []
          },
          "execution_count": 36
        }
      ]
    },
    {
      "cell_type": "code",
      "metadata": {
        "colab": {
          "base_uri": "https://localhost:8080/"
        },
        "id": "-0S8j4lwmuJW",
        "outputId": "a059946d-1273-49d4-adf8-f5dfa31d597f"
      },
      "source": [
        "!pip install jovian --upgrade --quiet"
      ],
      "execution_count": null,
      "outputs": [
        {
          "output_type": "stream",
          "text": [
            "\u001b[?25l\r\u001b[K     |█████                           | 10kB 16.3MB/s eta 0:00:01\r\u001b[K     |██████████                      | 20kB 19.2MB/s eta 0:00:01\r\u001b[K     |██████████████▉                 | 30kB 10.3MB/s eta 0:00:01\r\u001b[K     |███████████████████▉            | 40kB 8.3MB/s eta 0:00:01\r\u001b[K     |████████████████████████▉       | 51kB 4.5MB/s eta 0:00:01\r\u001b[K     |█████████████████████████████▊  | 61kB 5.0MB/s eta 0:00:01\r\u001b[K     |████████████████████████████████| 71kB 3.3MB/s \n",
            "\u001b[?25h  Building wheel for uuid (setup.py) ... \u001b[?25l\u001b[?25hdone\n"
          ],
          "name": "stdout"
        }
      ]
    },
    {
      "cell_type": "code",
      "metadata": {
        "id": "yVLoWxoyoAf5"
      },
      "source": [
        "import jovian"
      ],
      "execution_count": null,
      "outputs": []
    },
    {
      "cell_type": "code",
      "metadata": {
        "colab": {
          "base_uri": "https://localhost:8080/"
        },
        "id": "speliR0coFQB",
        "outputId": "614af3d2-b802-446a-da7e-a01bfdb3f294"
      },
      "source": [
        "jovian.commit(project='01-pytorch-basics-live')"
      ],
      "execution_count": null,
      "outputs": [
        {
          "output_type": "stream",
          "text": [
            "[jovian] Detected Colab notebook...\u001b[0m\n"
          ],
          "name": "stdout"
        },
        {
          "output_type": "stream",
          "text": [
            "\u001b[31m[jovian] Error: Colab File Id is not provided. Make sure to execute the cell where the Id is set.\u001b[0m\n"
          ],
          "name": "stderr"
        }
      ]
    },
    {
      "cell_type": "code",
      "metadata": {
        "id": "-sa3xY3FrXKU"
      },
      "source": [
        ""
      ],
      "execution_count": null,
      "outputs": []
    },
    {
      "cell_type": "code",
      "metadata": {
        "id": "pYESIxaeoRrL"
      },
      "source": [
        ""
      ],
      "execution_count": null,
      "outputs": []
    }
  ]
}